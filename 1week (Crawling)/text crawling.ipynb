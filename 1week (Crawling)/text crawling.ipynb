{
 "cells": [
  {
   "cell_type": "code",
   "execution_count": 1,
   "metadata": {},
   "outputs": [
    {
     "name": "stderr",
     "output_type": "stream",
     "text": [
      "[WDM] - Downloading: 100%|██████████| 6.58M/6.58M [00:00<00:00, 7.03MB/s]\n",
      "C:\\Users\\s8513\\anaconda3\\lib\\site-packages\\ipykernel_launcher.py:4: DeprecationWarning: executable_path has been deprecated, please pass in a Service object\n",
      "  after removing the cwd from sys.path.\n"
     ]
    }
   ],
   "source": [
    "from webdriver_manager.chrome import ChromeDriverManager\n",
    "from selenium import webdriver\n",
    "\n",
    "driver = webdriver.Chrome(ChromeDriverManager().install())\n",
    "\n",
    "URL='https://www.google.co.kr'\n",
    "driver.get(url=URL)\n",
    "driver.implicitly_wait(time_to_wait=10)"
   ]
  },
  {
   "cell_type": "code",
   "execution_count": 11,
   "metadata": {},
   "outputs": [
    {
     "name": "stdout",
     "output_type": "stream",
     "text": [
      "1\n",
      "36시간 휴전 명령\n",
      "2\n",
      "공현주\n",
      "3\n",
      "더글로리\n",
      "4\n",
      "삼성전자 4분기 영업이익\n",
      "5\n",
      "김정은 후계자 김주애\n",
      "6\n",
      "골든디스크\n",
      "7\n",
      "미스터트롯2\n",
      "8\n",
      "첼시\n",
      "9\n",
      "장윤정\n",
      "10\n",
      "입국전 검사 의무\n"
     ]
    }
   ],
   "source": [
    "from selenium.webdriver.common.by import By\n",
    "\n",
    "URL='https://signal.bz/news'\n",
    "driver.get(url=URL)\n",
    "driver.implicitly_wait(time_to_wait=10) \n",
    "\n",
    "\n",
    "#naver_results = driver.find_elements(By.CSS_SELECTOR, '#app > div > main > div > section > div > section > section:nth-child(2) > div:nth-child(2) > div > div > div > a > span.rank-text')\n",
    "naver_results = driver.find_elements(By.CSS_SELECTOR, '#app > div > main > div > section > div > section > section:nth-child(2) > div:nth-child(2)')\n",
    "naver_list = []\n",
    "for naver_result in naver_results:\n",
    "    print(naver_result.text)\n",
    "    naver_list.append(naver_result.text)"
   ]
  },
  {
   "cell_type": "code",
   "execution_count": 12,
   "metadata": {},
   "outputs": [
    {
     "data": {
      "text/plain": [
       "['1\\n36시간 휴전 명령\\n2\\n공현주\\n3\\n더글로리\\n4\\n삼성전자 4분기 영업이익\\n5\\n김정은 후계자 김주애\\n6\\n골든디스크\\n7\\n미스터트롯2\\n8\\n첼시\\n9\\n장윤정\\n10\\n입국전 검사 의무']"
      ]
     },
     "execution_count": 12,
     "metadata": {},
     "output_type": "execute_result"
    }
   ],
   "source": [
    "naver_list"
   ]
  },
  {
   "cell_type": "code",
   "execution_count": 15,
   "metadata": {},
   "outputs": [
    {
     "name": "stdout",
     "output_type": "stream",
     "text": [
      "이창용 한국은행 총재\n",
      "외교 장관공관 관저\n",
      "오후 8만 7796명\n",
      "나는 솔로\n",
      "유퀴즈 윤석열 안 나올 그랬나\n",
      "양향자 민주당 경악\n",
      "우크라에 협상안 전달\n",
      "\n",
      "\n",
      "\n"
     ]
    }
   ],
   "source": [
    "URL='https://www.nate.com'\n",
    "driver.get(url=URL)\n",
    "driver.implicitly_wait(time_to_wait=10)\n",
    "\n",
    "#driver.find_element_by_css_selector('#olLiveIssueKeyword > li:nth-child(1) > a > span.txt_rank').click()\n",
    "\n",
    "driver.find_element(By.CSS_SELECTOR,'#olLiveIssueKeyword > li:nth-child(1) > a > span.txt_rank').click()\n",
    "\n",
    "#nate_results = driver.find_elements_by_css_selector('#search-option > form:nth-child(1) > fieldset > div.issue-kwd > span > a')\n",
    "\n",
    "nate_results = driver.find_elements(By.CSS_SELECTOR,'#search-option > form:nth-child(1) > fieldset > div.issue-kwd > span > a')\n",
    "\n",
    "nate_list = []\n",
    "for nate_result in nate_results:\n",
    "    print(nate_result.text)\n",
    "    nate_list.append(nate_result.text)"
   ]
  },
  {
   "cell_type": "code",
   "execution_count": 3,
   "metadata": {},
   "outputs": [
    {
     "name": "stdout",
     "output_type": "stream",
     "text": [
      "더글로리\n",
      "이종석\n",
      "정용화\n",
      "이승기\n",
      "손흥민\n",
      "환혼\n",
      "송중기\n",
      "이강인\n",
      "계묘년\n",
      "남궁민\n"
     ]
    }
   ],
   "source": [
    "import time\n",
    "\n",
    "URL='https://zum.com'\n",
    "driver.get(url=URL)\n",
    "driver.implicitly_wait(time_to_wait=10) \n",
    "\n",
    "#driver.find_element_by_css_selector('#app > div > header > div.search_bar > div > fieldset > div > input[type=text]').send_keys(\"아무거나 검색\")\n",
    "driver.find_element(By.CSS_SELECTOR,'#app > div > header > div.search_bar > div > fieldset > div > input[type=text]').send_keys(\"아무거나 검색\")\n",
    "time.sleep(0.5)\n",
    "#driver.find_element_by_css_selector('#app > div > header > div.search_bar > div > fieldset > div > button.search').click()\n",
    "driver.find_element(By.CSS_SELECTOR,'#app > div > header > div.search_bar > div > fieldset > div > button.search').click()\n",
    "time.sleep(1)\n",
    "\n",
    "#zoom_results = driver.find_elements_by_css_selector('#issue_wrap > ul > li > div > a:nth-child(1) > span.txt')\n",
    "zoom_results = driver.find_elements(By.CSS_SELECTOR,'#issue_wrap > ul > li > div > a:nth-child(1) > span.txt')\n",
    "\n",
    "zoom_list = []\n",
    "for zoom_result in zoom_results:\n",
    "    print(zoom_result.text)\n",
    "    zoom_list.append(zoom_result.text)"
   ]
  },
  {
   "cell_type": "code",
   "execution_count": null,
   "metadata": {},
   "outputs": [],
   "source": []
  }
 ],
 "metadata": {
  "interpreter": {
   "hash": "b3ba2566441a7c06988d0923437866b63cedc61552a5af99d1f4fb67d367b25f"
  },
  "kernelspec": {
   "display_name": "Python 3",
   "language": "python",
   "name": "python3"
  },
  "language_info": {
   "codemirror_mode": {
    "name": "ipython",
    "version": 3
   },
   "file_extension": ".py",
   "mimetype": "text/x-python",
   "name": "python",
   "nbconvert_exporter": "python",
   "pygments_lexer": "ipython3",
   "version": "3.7.6"
  }
 },
 "nbformat": 4,
 "nbformat_minor": 2
}
